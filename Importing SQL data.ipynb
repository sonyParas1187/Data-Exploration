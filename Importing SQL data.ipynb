{
 "cells": [
  {
   "cell_type": "code",
   "execution_count": 1,
   "metadata": {},
   "outputs": [],
   "source": [
    "# Import relevant libraries\n",
    "\n",
    "import pyodbc\n",
    "import pandas as pd"
   ]
  },
  {
   "cell_type": "code",
   "execution_count": null,
   "metadata": {},
   "outputs": [],
   "source": [
    "# Define connector to DB\n",
    "\n",
    "conn = pyodbc.connect('DRIVER={SQL Server}; SERVER=1.1.1.1; DATABASE=DB_Name; UID=username; PWD=password')\n",
    "\n",
    "# Define data query\n",
    "\n",
    "data_query = \"SELECT * FROM table_name\"\n",
    "\n",
    "# Use connector and query to import data intop a dataframe\n",
    "\n",
    "df = pd.read_sql(data_query, conn)"
   ]
  }
 ],
 "metadata": {
  "kernelspec": {
   "display_name": "Python 3",
   "language": "python",
   "name": "python3"
  },
  "language_info": {
   "codemirror_mode": {
    "name": "ipython",
    "version": 3
   },
   "file_extension": ".py",
   "mimetype": "text/x-python",
   "name": "python",
   "nbconvert_exporter": "python",
   "pygments_lexer": "ipython3",
   "version": "3.7.3"
  }
 },
 "nbformat": 4,
 "nbformat_minor": 2
}
